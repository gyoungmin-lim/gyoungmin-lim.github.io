{
 "cells": [
  {
   "cell_type": "markdown",
   "id": "1b75a24f",
   "metadata": {},
   "source": [
    "---\n",
    "\n",
    "* 코드를 작성 후 \"Shift + Enter\"를 누르거나, 상단의 Run을 클릭하면 코드가 실행 된다. \n",
    "\n",
    "---"
   ]
  },
  {
   "cell_type": "markdown",
   "id": "e3f830d0",
   "metadata": {},
   "source": [
    "# 리스트 \n",
    "\n",
    "> 파이썬에서 자료(문자 혹은 숫자)를 정리할 수 있는 자료구조에는 리스트,  튜플, 딕셔너리등이 있다. \n",
    ">\n",
    "\n",
    "| 구분 | 특징 | 표현방법 | 예 |\n",
    "| :---: | :---: | :---: | :---: | \n",
    "| 리스트 | 자료를 순서대로 정리 한다. | [ ]를 사용, 쉼표로 각 원소를 구분 | [1, 2, 2] |\n",
    "\n",
    "> 리스트의 활용법은 다음과 같다. \n",
    "\n",
    "\n",
    "| 활용법 | 설명 | \n",
    "| :---:|  :---: |\n",
    "| list(데이터) | 데이터를 리스트로 바꾼다. |  \n",
    "| 리스트.append(값) | 리스트의 마지막에 값을 추가한다. | \n",
    "| 리스트.insert(위치, 값) | 리스트의 해당 위치에  값을 추가한다. |\n",
    "| 리스트.sort() | 리스트를 정렬한다. | \n",
    "| 리스트1 + 리스트2 | 리스트1과 리스트 2를 합친다. |\n",
    "| sum(리스트) | 리스트의 원소가 모두 수일때 리스트의 수를 더한다. |\n",
    "| 리스트[n] | 리스트의 n+1번째 위치의 값을 출력한다. |\n",
    "| 리스트[a:b] | 리스트의 a+1번째 위치부터 b번째 위치의 값을 출력한다. |  \n",
    "\n",
    "---\n",
    "\n",
    "**예제1** 다음을 코드로 작성하여라.  \n",
    "\n",
    "(1) '2, 21, -15, 학교'인 리스트를 a라 하고, '2, -3, 4, 8'인 리스트를 b라 하고 a와 b를 각각 출력하여라. "
   ]
  },
  {
   "cell_type": "code",
   "execution_count": null,
   "id": "22d87055",
   "metadata": {
    "ExecuteTime": {
     "end_time": "2021-06-02T07:24:35.469789Z",
     "start_time": "2021-06-02T07:24:35.452833Z"
    }
   },
   "outputs": [],
   "source": []
  },
  {
   "cell_type": "markdown",
   "id": "92ed4d69",
   "metadata": {},
   "source": [
    "(2) 리스트 a에 '학생'을 추가하고 이를 확인하여라. "
   ]
  },
  {
   "cell_type": "code",
   "execution_count": null,
   "id": "1b80384c",
   "metadata": {
    "ExecuteTime": {
     "end_time": "2021-06-02T07:24:35.533618Z",
     "start_time": "2021-06-02T07:24:35.512673Z"
    }
   },
   "outputs": [],
   "source": []
  },
  {
   "cell_type": "markdown",
   "id": "2f900eba",
   "metadata": {},
   "source": [
    "(3) 리스트 b의 두번째 위치에 6를 추가하고 이를 확인하여라. "
   ]
  },
  {
   "cell_type": "code",
   "execution_count": null,
   "id": "c496a17e",
   "metadata": {},
   "outputs": [],
   "source": []
  },
  {
   "cell_type": "markdown",
   "id": "bf0a0057",
   "metadata": {},
   "source": [
    "(4) 리스트 b의 값을 정렬하여라. "
   ]
  },
  {
   "cell_type": "code",
   "execution_count": null,
   "id": "7dcd48ed",
   "metadata": {},
   "outputs": [],
   "source": []
  },
  {
   "cell_type": "markdown",
   "id": "eae35fe2",
   "metadata": {},
   "source": [
    "(5) 리스트 a의 첫번째 값을 출력하여라. "
   ]
  },
  {
   "cell_type": "code",
   "execution_count": null,
   "id": "deebb65c",
   "metadata": {},
   "outputs": [],
   "source": []
  },
  {
   "cell_type": "markdown",
   "id": "43aabcd0",
   "metadata": {},
   "source": [
    "(6) 리스트 a의 두번째부터 다섯번째까지의 값을 출력하여라. "
   ]
  },
  {
   "cell_type": "code",
   "execution_count": null,
   "id": "399e888f",
   "metadata": {},
   "outputs": [],
   "source": []
  },
  {
   "cell_type": "markdown",
   "id": "ed3e8737",
   "metadata": {},
   "source": [
    "(7) 리스트 a와 b를 하나로 합하여라."
   ]
  },
  {
   "cell_type": "code",
   "execution_count": null,
   "id": "62d8758a",
   "metadata": {
    "ExecuteTime": {
     "end_time": "2021-06-02T07:24:35.581490Z",
     "start_time": "2021-06-02T07:24:35.571517Z"
    }
   },
   "outputs": [],
   "source": []
  },
  {
   "cell_type": "markdown",
   "id": "92aaf878",
   "metadata": {},
   "source": [
    "(8) 리스트 b의 원소를 모두 더하여라."
   ]
  },
  {
   "cell_type": "code",
   "execution_count": null,
   "id": "237cc13e",
   "metadata": {
    "ExecuteTime": {
     "end_time": "2021-06-02T07:24:35.645317Z",
     "start_time": "2021-06-02T07:24:35.628367Z"
    }
   },
   "outputs": [],
   "source": []
  },
  {
   "cell_type": "markdown",
   "id": "1336afc4",
   "metadata": {},
   "source": [
    "**문제1** 다음을 코드로 작성하여라. \n",
    "\n",
    "(1) '사과, 배, 감, 포도'인 리스트를 c라 하고 c를 출력하여라. "
   ]
  },
  {
   "cell_type": "code",
   "execution_count": null,
   "id": "7b32dd53",
   "metadata": {
    "ExecuteTime": {
     "end_time": "2021-06-02T07:24:35.930555Z",
     "start_time": "2021-06-02T07:24:35.919588Z"
    }
   },
   "outputs": [],
   "source": []
  },
  {
   "cell_type": "markdown",
   "id": "c3e69fd7",
   "metadata": {},
   "source": [
    "(2) 리스트 c에 '수박'을 추가하고 이를 확인하여라. "
   ]
  },
  {
   "cell_type": "code",
   "execution_count": null,
   "id": "472cbc39",
   "metadata": {
    "ExecuteTime": {
     "end_time": "2021-06-02T07:24:35.946514Z",
     "start_time": "2021-06-02T07:24:35.935545Z"
    }
   },
   "outputs": [],
   "source": []
  },
  {
   "cell_type": "markdown",
   "id": "f568db83",
   "metadata": {},
   "source": [
    "(3) 리스트 c의 값을 정렬하여라. "
   ]
  },
  {
   "cell_type": "code",
   "execution_count": null,
   "id": "7f8cfe7a",
   "metadata": {},
   "outputs": [],
   "source": []
  },
  {
   "cell_type": "markdown",
   "id": "0cc9d4c6",
   "metadata": {},
   "source": [
    "(4) 리스트 c의 세번째 값을 확인하여라. "
   ]
  },
  {
   "cell_type": "code",
   "execution_count": null,
   "id": "a6f36d7f",
   "metadata": {},
   "outputs": [],
   "source": []
  },
  {
   "cell_type": "markdown",
   "id": "75296c3b",
   "metadata": {},
   "source": [
    "(5) c의 세번째 위치에 '바나나'를 추가하고 이를 확인하여라."
   ]
  },
  {
   "cell_type": "code",
   "execution_count": null,
   "id": "da7dfe06",
   "metadata": {},
   "outputs": [],
   "source": []
  },
  {
   "cell_type": "markdown",
   "id": "29162a86",
   "metadata": {},
   "source": [
    "# range 함수\n",
    "\n",
    "| 활용법 | 설명 |\n",
    "| :---:  | :---:  |\n",
    "| range(n) | 0 이상 n 미만의 값을 생성한다. |\n",
    "|  range(a, b) | a 이상 b 미만의 값을 생성한다. |\n",
    "|  range(a, b, c) | a 이상 b 미만의 값을 c 간격으로 생성한다. |\n",
    "\n",
    "---\n",
    "\n",
    "**예제2** 다음의 코드를 작성하여라. \n",
    "\n",
    "(1) 0, 1, 2, 3, 4, 5를 range를 이용하여 생성하여라. "
   ]
  },
  {
   "cell_type": "code",
   "execution_count": null,
   "id": "240d569e",
   "metadata": {
    "ExecuteTime": {
     "end_time": "2021-06-02T07:24:35.962471Z",
     "start_time": "2021-06-02T07:24:35.950502Z"
    }
   },
   "outputs": [],
   "source": []
  },
  {
   "cell_type": "markdown",
   "id": "320784f6",
   "metadata": {
    "ExecuteTime": {
     "end_time": "2021-05-26T01:49:34.233923Z",
     "start_time": "2021-05-26T01:49:34.218303Z"
    }
   },
   "source": [
    "(2) 리스트를 이용하여 (1)의 값을 출력하여라."
   ]
  },
  {
   "cell_type": "code",
   "execution_count": null,
   "id": "4c9770de",
   "metadata": {
    "ExecuteTime": {
     "end_time": "2021-06-02T07:24:35.978429Z",
     "start_time": "2021-06-02T07:24:35.967457Z"
    }
   },
   "outputs": [],
   "source": []
  },
  {
   "cell_type": "markdown",
   "id": "56288449",
   "metadata": {},
   "source": [
    "(3) 리스트를 이용하여 1과 10 미만의 짝수를 출력하여라. "
   ]
  },
  {
   "cell_type": "code",
   "execution_count": null,
   "id": "0022c460",
   "metadata": {
    "ExecuteTime": {
     "end_time": "2021-06-02T07:24:36.010343Z",
     "start_time": "2021-06-02T07:24:35.986406Z"
    }
   },
   "outputs": [],
   "source": []
  },
  {
   "cell_type": "markdown",
   "id": "3dd82e66",
   "metadata": {},
   "source": [
    "**문제2** 다음의 코드를 작성하여라. \n",
    "\n",
    "(1) 리스트를 이용하여 3, 4, 5, 6, 7, 8, 9를 출력하여라."
   ]
  },
  {
   "cell_type": "code",
   "execution_count": null,
   "id": "8e71b96f",
   "metadata": {
    "ExecuteTime": {
     "end_time": "2021-06-02T07:24:36.074172Z",
     "start_time": "2021-06-02T07:24:36.063202Z"
    }
   },
   "outputs": [],
   "source": []
  },
  {
   "cell_type": "markdown",
   "id": "67a572d8",
   "metadata": {},
   "source": [
    "(2) 리스트를 이용하여 1과 100 미민의 7의 배수를 출력하여라."
   ]
  },
  {
   "cell_type": "code",
   "execution_count": null,
   "id": "28ade6b1",
   "metadata": {
    "ExecuteTime": {
     "end_time": "2021-06-02T07:24:36.138001Z",
     "start_time": "2021-06-02T07:24:36.124039Z"
    }
   },
   "outputs": [],
   "source": []
  },
  {
   "cell_type": "markdown",
   "id": "bd79be40",
   "metadata": {},
   "source": [
    "# for 문\n",
    "\n",
    ">for문은 반복문에 사용된다. \n",
    "\n",
    "--- \n",
    "\n",
    "for 문의 기본 구조는 다음과 같다. "
   ]
  },
  {
   "cell_type": "raw",
   "id": "94b72c8e",
   "metadata": {},
   "source": [
    "for 변수 in 범위(리스트) : \n",
    "   수행문장 "
   ]
  },
  {
   "cell_type": "markdown",
   "id": "98d81b09",
   "metadata": {},
   "source": [
    "**예제3** for문을 활용하여 다음을 코드로 작성하여라.\n",
    "\n",
    "(1) 1, 2, 3, 4를 출력하여라. "
   ]
  },
  {
   "cell_type": "code",
   "execution_count": null,
   "id": "42ac34bc",
   "metadata": {
    "ExecuteTime": {
     "end_time": "2021-06-02T07:24:36.246710Z",
     "start_time": "2021-06-02T07:24:36.234742Z"
    }
   },
   "outputs": [],
   "source": []
  },
  {
   "cell_type": "markdown",
   "id": "21b82ad9",
   "metadata": {},
   "source": [
    "(2) 1, 3, 5, 7, 9를 출력하여라. "
   ]
  },
  {
   "cell_type": "code",
   "execution_count": null,
   "id": "637faddb",
   "metadata": {
    "ExecuteTime": {
     "end_time": "2021-06-02T07:24:36.308548Z",
     "start_time": "2021-06-02T07:24:36.294581Z"
    }
   },
   "outputs": [],
   "source": []
  },
  {
   "cell_type": "markdown",
   "id": "4954c4f4",
   "metadata": {},
   "source": [
    "(3) 2, 4, 6, 8, 10를 리스트에 차례로 넣어서 출력하여라. "
   ]
  },
  {
   "cell_type": "code",
   "execution_count": null,
   "id": "c181cf02",
   "metadata": {},
   "outputs": [],
   "source": []
  },
  {
   "cell_type": "markdown",
   "id": "4e50f3a4",
   "metadata": {},
   "source": [
    "(4) 1부터 10까지 수의 합을 구하여라. "
   ]
  },
  {
   "cell_type": "code",
   "execution_count": null,
   "id": "ae8911da",
   "metadata": {
    "ExecuteTime": {
     "end_time": "2021-06-02T07:24:36.356416Z",
     "start_time": "2021-06-02T07:24:36.346476Z"
    }
   },
   "outputs": [],
   "source": []
  },
  {
   "cell_type": "markdown",
   "id": "fbc4f79d",
   "metadata": {},
   "source": [
    "(5) 1부터 10까지 수의 곱을 구하여라. "
   ]
  },
  {
   "cell_type": "code",
   "execution_count": null,
   "id": "d021a775",
   "metadata": {
    "ExecuteTime": {
     "end_time": "2021-06-02T07:24:36.404288Z",
     "start_time": "2021-06-02T07:24:36.388363Z"
    }
   },
   "outputs": [],
   "source": []
  },
  {
   "cell_type": "markdown",
   "id": "5b89d97c",
   "metadata": {},
   "source": [
    "**문제3** for문을 활용하여 다음을 코드로 작성하여라.\n",
    "\n",
    "(1) 1부터 100 미만의 9의 배수를 리스트에 차례로 넣어서 출력하여라."
   ]
  },
  {
   "cell_type": "code",
   "execution_count": null,
   "id": "fe84c788",
   "metadata": {
    "ExecuteTime": {
     "end_time": "2021-06-02T07:24:36.467120Z",
     "start_time": "2021-06-02T07:24:36.447174Z"
    }
   },
   "outputs": [],
   "source": []
  },
  {
   "cell_type": "markdown",
   "id": "c9d4b6fe",
   "metadata": {},
   "source": [
    "(2) 1부터 100 미만의 짝수의 합을 구하여라. "
   ]
  },
  {
   "cell_type": "code",
   "execution_count": null,
   "id": "d4f5cff7",
   "metadata": {
    "ExecuteTime": {
     "end_time": "2021-06-02T07:24:36.529954Z",
     "start_time": "2021-06-02T07:24:36.520978Z"
    }
   },
   "outputs": [],
   "source": []
  },
  {
   "cell_type": "markdown",
   "id": "1c50e428",
   "metadata": {},
   "source": [
    "# 도전하기 \n",
    "\n",
    "for문을 활용하여 아래와 같은 2단 구구단표를 출력하여라.\n",
    "\n",
    "```\n",
    "2  *  1  =  2\n",
    "2  *  2  =  4\n",
    "2  *  3  =  6\n",
    "2  *  4  =  8\n",
    "2  *  5  =  10\n",
    "2  *  6  =  12\n",
    "2  *  7  =  14\n",
    "2  *  8  =  16\n",
    "2  *  9  =  18\n",
    "```"
   ]
  },
  {
   "cell_type": "code",
   "execution_count": null,
   "id": "b421f426",
   "metadata": {
    "ExecuteTime": {
     "end_time": "2021-06-02T07:24:36.609739Z",
     "start_time": "2021-06-02T07:24:36.596776Z"
    },
    "scrolled": true
   },
   "outputs": [],
   "source": []
  },
  {
   "cell_type": "markdown",
   "id": "e9184fd2",
   "metadata": {},
   "source": [
    "----\n",
    "\n",
    "**예제4** 다음 예와 같이 첫번째 줄에는 별 1개, 두번째 줄에는 별 2개, 다섯번째 줄에는 별 5개를 찍는 코드를 작성하여라. \n",
    "\n",
    "```\n",
    "*\n",
    "**\n",
    "***\n",
    "****\n",
    "*****\n",
    "```"
   ]
  },
  {
   "cell_type": "code",
   "execution_count": null,
   "id": "a0835134",
   "metadata": {},
   "outputs": [],
   "source": []
  },
  {
   "cell_type": "markdown",
   "id": "694cdc96",
   "metadata": {},
   "source": [
    "**예제5** 다음 예와 같이 오른쪽을 기준으로 첫번째 줄에는 별 1개, 두번째 줄에는 별 2개, 다섯번째 줄에는 별 5개를 찍는 코드를 작성하여라. \n",
    "\n",
    "```\n",
    "     *\n",
    "    **\n",
    "   ***\n",
    "  ****\n",
    " *****\n",
    "```"
   ]
  },
  {
   "cell_type": "code",
   "execution_count": null,
   "id": "f7117272",
   "metadata": {},
   "outputs": [],
   "source": []
  },
  {
   "cell_type": "markdown",
   "id": "4140f1cf",
   "metadata": {},
   "source": [
    "**문제4** 다음 예와 같이 첫번째 줄에는 별 5개, 두번째 줄에는 별 4개, ..., 다섯번째 줄에는 별 1개를 찍는 코드를 작성하여라. \n",
    "\n",
    "```\n",
    "*****\n",
    "****\n",
    "***\n",
    "**\n",
    "*\n",
    "```"
   ]
  },
  {
   "cell_type": "code",
   "execution_count": null,
   "id": "8257527e",
   "metadata": {},
   "outputs": [],
   "source": []
  },
  {
   "cell_type": "markdown",
   "id": "726c4485",
   "metadata": {},
   "source": [
    "**문제5** 다음 예와 같이 오른쪽을 기준으로 첫번째 줄에는 별 5개, 두번째 줄에는 별 4개, ..., 다섯번째 줄에는 별 1개를 찍는 코드를 작성하여라. \n",
    "\n",
    "```\n",
    "*****\n",
    " ****\n",
    "  ***\n",
    "   **\n",
    "    *\n",
    "```"
   ]
  },
  {
   "cell_type": "code",
   "execution_count": null,
   "id": "06ff1f0d",
   "metadata": {},
   "outputs": [],
   "source": []
  },
  {
   "cell_type": "markdown",
   "id": "32c9632d",
   "metadata": {},
   "source": [
    "# 도전하기 \n",
    "\n",
    "다음 예와 같이 첫번째 줄에는 별 1개, 두번째 줄에는 별 3개, ..., 다섯번째 줄에는 별 9개를 찍는 코드를 작성하여라. 단, 별은 가운데를 기준으로 대칭이어야 한다. \n",
    "\n",
    "\n",
    "```\n",
    "    *\n",
    "   ***\n",
    "  *****\n",
    " *******\n",
    "*********\n",
    "```"
   ]
  },
  {
   "cell_type": "code",
   "execution_count": null,
   "id": "c9c506c0",
   "metadata": {},
   "outputs": [],
   "source": []
  },
  {
   "cell_type": "markdown",
   "id": "173c7047",
   "metadata": {},
   "source": [
    "# 도전하기 \n",
    "\n",
    "다음 예와 같이 첫번째 줄에는 별 9개, 두번째 줄에는 별 7개, ..., 다섯번째 줄에는 별 1개를 찍는 코드를 작성하여라. 단, 별은 가운데를 기준으로 대칭이어야 한다. \n",
    "\n",
    "\n",
    "```\n",
    "*********\n",
    " *******\n",
    "  *****\n",
    "   ***\n",
    "    *\n",
    "```"
   ]
  },
  {
   "cell_type": "code",
   "execution_count": null,
   "id": "af93d7ae",
   "metadata": {},
   "outputs": [],
   "source": []
  },
  {
   "cell_type": "code",
   "execution_count": null,
   "id": "47e8b6eb",
   "metadata": {},
   "outputs": [],
   "source": []
  }
 ],
 "metadata": {
  "hide_input": false,
  "kernelspec": {
   "display_name": "Python 3 (ipykernel)",
   "language": "python",
   "name": "python3"
  },
  "language_info": {
   "codemirror_mode": {
    "name": "ipython",
    "version": 3
   },
   "file_extension": ".py",
   "mimetype": "text/x-python",
   "name": "python",
   "nbconvert_exporter": "python",
   "pygments_lexer": "ipython3",
   "version": "3.9.13"
  },
  "nbTranslate": {
   "displayLangs": [
    "*"
   ],
   "hotkey": "alt-t",
   "langInMainMenu": true,
   "sourceLang": "en",
   "targetLang": "fr",
   "useGoogleTranslate": true
  },
  "toc": {
   "base_numbering": 1,
   "nav_menu": {},
   "number_sections": true,
   "sideBar": true,
   "skip_h1_title": false,
   "title_cell": "Table of Contents",
   "title_sidebar": "Contents",
   "toc_cell": false,
   "toc_position": {},
   "toc_section_display": true,
   "toc_window_display": false
  },
  "varInspector": {
   "cols": {
    "lenName": 16,
    "lenType": 16,
    "lenVar": 40
   },
   "kernels_config": {
    "python": {
     "delete_cmd_postfix": "",
     "delete_cmd_prefix": "del ",
     "library": "var_list.py",
     "varRefreshCmd": "print(var_dic_list())"
    },
    "r": {
     "delete_cmd_postfix": ") ",
     "delete_cmd_prefix": "rm(",
     "library": "var_list.r",
     "varRefreshCmd": "cat(var_dic_list()) "
    }
   },
   "types_to_exclude": [
    "module",
    "function",
    "builtin_function_or_method",
    "instance",
    "_Feature"
   ],
   "window_display": false
  }
 },
 "nbformat": 4,
 "nbformat_minor": 5
}
