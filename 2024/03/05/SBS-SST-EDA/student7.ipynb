{
 "cells": [
  {
   "cell_type": "markdown",
   "id": "fa85d5e1",
   "metadata": {},
   "source": [
    "---\n",
    "\n",
    "* 코드를 작성 후 \"Shift + Enter\"를 누르거나, 상단의 Run을 클릭하면 코드가 실행 된다. \n",
    "\n",
    "---\n",
    "\n",
    "**예제1** pandas를 pd라는 이름으로, matplotlib.pyplot을 plt라는 이름으로 불러와서 사용한다."
   ]
  },
  {
   "cell_type": "code",
   "execution_count": null,
   "id": "fd1fd725",
   "metadata": {},
   "outputs": [],
   "source": []
  },
  {
   "cell_type": "markdown",
   "id": "6aa76508",
   "metadata": {},
   "source": [
    "**예제2** 'pokemon.csv' 파일을 불러와서 df라 하고 처음 5개의 행을 확인하여라. \n",
    "\n",
    "---\n",
    "\n",
    "| 활용법 | 설명 | \n",
    "| :---:|  :---: |\n",
    "| pd.read_csv('파일명') | 파일을 불러온다.  | \n",
    "\n",
    "---"
   ]
  },
  {
   "cell_type": "code",
   "execution_count": null,
   "id": "7459402e",
   "metadata": {},
   "outputs": [],
   "source": [
    "df = pd.read_csv('pokemon.csv',  encoding='ISO-8859-1')\n"
   ]
  },
  {
   "cell_type": "markdown",
   "id": "5113409d",
   "metadata": {},
   "source": [
    "generation : 카드의 세대\n",
    "\n",
    "name : 카드의 이름\n",
    "\n",
    "types : 카드의 속성(불꽃, 물, 풀 등)\n",
    "\n",
    "supertype : 카드의 대분류(Pokémon, Trainer, Energy)\n",
    "\n",
    "hp : 카드가 가진 기술값(hit points)\n",
    "\n",
    "resistances : 카드의 저항력 값\n",
    "\n",
    "rarity : 카드의 희귀도 값\n",
    "\n",
    "\n",
    "------------------------\n",
    "\n",
    "<table>\n",
    "  <tr>\n",
    "    <td><img src=\"푸린.jpg\" alt=\"푸린\" width=\"300\" height=\"200\" /></td>\n",
    "    <td><img src=\"트레이너.jpg\" alt=\"트레이너\" width=\"300\" height=\"200\" /></td>\n",
    "    <td><img src=\"에너지.jpg\" alt=\"에너지\" width=\"300\" height=\"200\" /></td>\n",
    "  </tr>\n",
    "</table>\n",
    "\n",
    "\n",
    "https://pokemoncard.co.kr/info/html/sub01.html"
   ]
  },
  {
   "cell_type": "markdown",
   "id": "e2f9dc43",
   "metadata": {},
   "source": [
    "**예제3** df의 정보를 확인하여라. \n",
    "\n",
    "---\n",
    "\n",
    "| 활용법 | 설명 | \n",
    "| :---:|  :---: |\n",
    "| 데이터프레임.info() | 데이터프레임의 정보를 출력한다.  | \n",
    "\n",
    "---"
   ]
  },
  {
   "cell_type": "code",
   "execution_count": null,
   "id": "c5f3a80e",
   "metadata": {},
   "outputs": [],
   "source": []
  },
  {
   "cell_type": "markdown",
   "id": "15b02ca9",
   "metadata": {},
   "source": [
    "**예제4** 다음의 코드를 작성하여라. \n",
    "\n",
    "\n",
    "---\n",
    "\n",
    "| 활용법 | 설명 | \n",
    "| :---:|  :---: |\n",
    "| 데이터프레임['열이름'].unique() | 해당 열의 값을 중복없이 출력한다.   | \n",
    "| 데이터프레임['열이름'].value_counts() | 해당 열의 값의 각각의 개수를 출력한다.   |\n",
    "\n",
    "---\n",
    "\n",
    "(1) 'generation'열의 값을 확인하여라. (단, 중복은 제거하여 출력한다.)\n"
   ]
  },
  {
   "cell_type": "code",
   "execution_count": null,
   "id": "ad4f2d38",
   "metadata": {},
   "outputs": [],
   "source": []
  },
  {
   "cell_type": "markdown",
   "id": "a0672722",
   "metadata": {},
   "source": [
    "(2) 'generation'열의 값의 각각의 개수를 세어라. "
   ]
  },
  {
   "cell_type": "code",
   "execution_count": null,
   "id": "b6d3553e",
   "metadata": {},
   "outputs": [],
   "source": []
  },
  {
   "cell_type": "markdown",
   "id": "0d384f6d",
   "metadata": {},
   "source": [
    "(3) 'generation'열의 값의 각각의 개수를 막대그래프로 나타내어라.  "
   ]
  },
  {
   "cell_type": "code",
   "execution_count": null,
   "id": "b99f2eae",
   "metadata": {},
   "outputs": [],
   "source": []
  },
  {
   "cell_type": "markdown",
   "id": "91bd21df",
   "metadata": {},
   "source": [
    "(4) 'generation'열의 값의 각각의 개수를 원그래프로 나타내어라."
   ]
  },
  {
   "cell_type": "code",
   "execution_count": null,
   "id": "e327a4de",
   "metadata": {},
   "outputs": [],
   "source": []
  },
  {
   "cell_type": "markdown",
   "id": "0df8ec0e",
   "metadata": {},
   "source": [
    "**문제1** 다음의 코드를 작성하여라.\n",
    "\n",
    "(1) 'supertype'열의 값을 확인하여라. (단, 중복은 제거하여 출력한다.)"
   ]
  },
  {
   "cell_type": "code",
   "execution_count": null,
   "id": "416ffe1a",
   "metadata": {},
   "outputs": [],
   "source": []
  },
  {
   "cell_type": "markdown",
   "id": "e36e18f1",
   "metadata": {},
   "source": [
    "(2) 'supertype'열의 값의 각각의 개수를 세어라."
   ]
  },
  {
   "cell_type": "code",
   "execution_count": null,
   "id": "53302a8a",
   "metadata": {},
   "outputs": [],
   "source": []
  },
  {
   "cell_type": "markdown",
   "id": "6142d085",
   "metadata": {},
   "source": [
    "(3) 'supertype'열의 값의 각각의 개수를 막대그래프로 나타내어라."
   ]
  },
  {
   "cell_type": "code",
   "execution_count": null,
   "id": "c6f8a0f0",
   "metadata": {},
   "outputs": [],
   "source": []
  },
  {
   "cell_type": "markdown",
   "id": "9aedae40",
   "metadata": {},
   "source": [
    "(4) 'supertype'열의 값의 각각의 개수를 원그래프로 나타내어라."
   ]
  },
  {
   "cell_type": "code",
   "execution_count": null,
   "id": "90d12f24",
   "metadata": {},
   "outputs": [],
   "source": []
  },
  {
   "cell_type": "markdown",
   "id": "9dbfbd29",
   "metadata": {},
   "source": [
    "**문제2** 다음의 코드를 작성하여라.\n",
    "\n",
    "(1) 'types'열의 값을 확인하여라. (단, 중복은 제거하여 출력한다.)"
   ]
  },
  {
   "cell_type": "code",
   "execution_count": null,
   "id": "79e902af",
   "metadata": {},
   "outputs": [],
   "source": []
  },
  {
   "cell_type": "markdown",
   "id": "8b12a009",
   "metadata": {},
   "source": [
    "(2) 'types'열의 값의 각각의 개수를 세어라."
   ]
  },
  {
   "cell_type": "code",
   "execution_count": null,
   "id": "1c1d9dbf",
   "metadata": {},
   "outputs": [],
   "source": []
  },
  {
   "cell_type": "markdown",
   "id": "be01b2e8",
   "metadata": {},
   "source": [
    "(3) 'types'열의 값의 각각의 개수를 막대그래프로 나타내어라."
   ]
  },
  {
   "cell_type": "code",
   "execution_count": null,
   "id": "f131abe0",
   "metadata": {},
   "outputs": [],
   "source": []
  },
  {
   "cell_type": "markdown",
   "id": "215ac7b6",
   "metadata": {},
   "source": [
    "(4) 'types'열의 값의 각각의 개수를 원그래프로 나타내어라."
   ]
  },
  {
   "cell_type": "code",
   "execution_count": null,
   "id": "7d107eea",
   "metadata": {},
   "outputs": [],
   "source": []
  },
  {
   "cell_type": "markdown",
   "id": "f052d0ae",
   "metadata": {},
   "source": [
    "**문제3** 다음의 코드를 작성하여라.\n",
    "\n",
    "(1) 'name'열의 값을 확인하여라. (단, 중복은 제거하여 출력한다.)"
   ]
  },
  {
   "cell_type": "code",
   "execution_count": null,
   "id": "ccff9d3d",
   "metadata": {},
   "outputs": [],
   "source": []
  },
  {
   "cell_type": "markdown",
   "id": "e4ab298a",
   "metadata": {},
   "source": [
    "(2) 'name'열의 값 전체의 개수를 세어라."
   ]
  },
  {
   "cell_type": "code",
   "execution_count": null,
   "id": "639504db",
   "metadata": {},
   "outputs": [],
   "source": []
  },
  {
   "cell_type": "markdown",
   "id": "bcf926ff",
   "metadata": {},
   "source": [
    "(3) 'name'열의 처음 10개의 값을 막대그래프로 나타내어라."
   ]
  },
  {
   "cell_type": "code",
   "execution_count": null,
   "id": "4411bca0",
   "metadata": {},
   "outputs": [],
   "source": []
  },
  {
   "cell_type": "markdown",
   "id": "6b3fb9fd",
   "metadata": {},
   "source": [
    "**예제5** 다음의 코드를 작성하여라.\n",
    "\n",
    "(1) 'resistances'열의 값을 확인하여라. (단, 중복은 제거하여 출력한다.)"
   ]
  },
  {
   "cell_type": "code",
   "execution_count": null,
   "id": "c6c61503",
   "metadata": {},
   "outputs": [],
   "source": []
  },
  {
   "cell_type": "markdown",
   "id": "e61f5fa1",
   "metadata": {},
   "source": [
    "(2) 'rarity'열의 값을 확인하여라. (단, 중복은 제거하여 출력한다.)"
   ]
  },
  {
   "cell_type": "code",
   "execution_count": null,
   "id": "95839d3a",
   "metadata": {},
   "outputs": [],
   "source": []
  },
  {
   "cell_type": "markdown",
   "id": "939dccd5",
   "metadata": {},
   "source": [
    "**예제6** 다음의 코드를 작성하여라.\n",
    "\n",
    "(1) 'generation'열의 값이 'First'인 처음 5개 행을 확인하여라. "
   ]
  },
  {
   "cell_type": "code",
   "execution_count": null,
   "id": "da787d1b",
   "metadata": {},
   "outputs": [],
   "source": []
  },
  {
   "cell_type": "markdown",
   "id": "786fb10c",
   "metadata": {},
   "source": [
    "(2) 'generation'열의 값이 'First'인 자료에서 'supertype'열의 값의 각각의 개수를 세어라."
   ]
  },
  {
   "cell_type": "code",
   "execution_count": null,
   "id": "20c65380",
   "metadata": {},
   "outputs": [],
   "source": []
  },
  {
   "cell_type": "markdown",
   "id": "8d88553d",
   "metadata": {},
   "source": [
    "(3) (2)의 결과를 원그래프로 나타내고 제목은 'First generation'이라 하여라. "
   ]
  },
  {
   "cell_type": "code",
   "execution_count": null,
   "id": "2b57f524",
   "metadata": {},
   "outputs": [],
   "source": []
  },
  {
   "cell_type": "markdown",
   "id": "b676f8f8",
   "metadata": {},
   "source": [
    "(4) 반복문을 이용하여 1세대부터 9세대까지의 'supertype'열의 값의 각각의 개수를 원그래프로 나타내어라. "
   ]
  },
  {
   "cell_type": "code",
   "execution_count": null,
   "id": "3e8a2b5d",
   "metadata": {},
   "outputs": [],
   "source": []
  },
  {
   "cell_type": "markdown",
   "id": "c1142390",
   "metadata": {},
   "source": [
    "**문제4** 다음의 코드를 작성하여라.\n",
    "\n",
    "(1) 'generation'열의 값이 'First'인 자료에서 'name'열의 값의 각각의 개수를 세어서 처음 10개의 값을 출력하여라. "
   ]
  },
  {
   "cell_type": "code",
   "execution_count": null,
   "id": "6c216b78",
   "metadata": {},
   "outputs": [],
   "source": []
  },
  {
   "cell_type": "markdown",
   "id": "66603a19",
   "metadata": {},
   "source": [
    "(2) (1)의 결과를 막대그래프로 나타내고 제목은 'First generation'이라 하여라."
   ]
  },
  {
   "cell_type": "code",
   "execution_count": null,
   "id": "da0d5d58",
   "metadata": {},
   "outputs": [],
   "source": []
  },
  {
   "cell_type": "markdown",
   "id": "909d815f",
   "metadata": {},
   "source": [
    "(3) 반복문을 이용하여 1세대부터 9세대까지의 'name'열의 값의 각각의 개수의 처음 10개의 값을 막대그래프로 나타내어라."
   ]
  },
  {
   "cell_type": "code",
   "execution_count": null,
   "id": "be7111b5",
   "metadata": {},
   "outputs": [],
   "source": []
  },
  {
   "cell_type": "markdown",
   "id": "b7f526b1",
   "metadata": {},
   "source": [
    "**문제5** 다음의 코드를 작성하여라.\n",
    "\n",
    "(1) 'supertype'열의 값이 'Pokemon'인 처음 5행을 확인하여라."
   ]
  },
  {
   "cell_type": "code",
   "execution_count": null,
   "id": "5b7a8a57",
   "metadata": {},
   "outputs": [],
   "source": []
  },
  {
   "cell_type": "markdown",
   "id": "96eb4541",
   "metadata": {},
   "source": [
    "(2) (1)의 결과를 원그래프로 나타내고 제목은 'Pokemon'이라 하여라."
   ]
  },
  {
   "cell_type": "code",
   "execution_count": null,
   "id": "e1ca82a8",
   "metadata": {},
   "outputs": [],
   "source": []
  },
  {
   "cell_type": "markdown",
   "id": "8da4c27b",
   "metadata": {},
   "source": [
    "(3) 반복문을 이용하여 Pokemon, Trainer, Energy의 'name'열의 값의 각각의 개수를 막대그래프로 나타내어라."
   ]
  },
  {
   "cell_type": "code",
   "execution_count": null,
   "id": "9aa7b575",
   "metadata": {},
   "outputs": [],
   "source": []
  },
  {
   "cell_type": "markdown",
   "id": "781d82ee",
   "metadata": {},
   "source": [
    "**예제7** 다음의 코드를 작성하여라.\n",
    "\n",
    "(1) groupby함수를 사용하여 'types'별 'hp'의 평균값을 구하여라. "
   ]
  },
  {
   "cell_type": "code",
   "execution_count": null,
   "id": "4cccae80",
   "metadata": {},
   "outputs": [],
   "source": []
  },
  {
   "cell_type": "markdown",
   "id": "8bd145ad",
   "metadata": {},
   "source": [
    "(2) 'types'별 'hp'의 평균값을 막대그래프로 나타내어라."
   ]
  },
  {
   "cell_type": "code",
   "execution_count": null,
   "id": "d01623ec",
   "metadata": {},
   "outputs": [],
   "source": []
  },
  {
   "cell_type": "markdown",
   "id": "76a68997",
   "metadata": {},
   "source": [
    "(3) 1세대 인 경우, 'types'별 'hp'의 평균값을 막대그래프로 나타내고 제목을 'First generation'이라 하여라. "
   ]
  },
  {
   "cell_type": "code",
   "execution_count": null,
   "id": "7ea881cd",
   "metadata": {},
   "outputs": [],
   "source": []
  },
  {
   "cell_type": "markdown",
   "id": "1f54d991",
   "metadata": {},
   "source": [
    "(4) 반복문을 이용하여 1세대부터 9세대까지의 'types'별 'hp'의 평균값을 막대그래프로 나타내어라."
   ]
  },
  {
   "cell_type": "code",
   "execution_count": null,
   "id": "666c1851",
   "metadata": {},
   "outputs": [],
   "source": []
  },
  {
   "cell_type": "markdown",
   "id": "a010cd76",
   "metadata": {},
   "source": [
    "**예제8** 다음의 코드를 작성하여라.\n",
    "\n",
    "(1) groupby함수를 사용하여 'name'별 'hp'의 평균값을 구하여라."
   ]
  },
  {
   "cell_type": "code",
   "execution_count": null,
   "id": "801d520a",
   "metadata": {},
   "outputs": [],
   "source": []
  },
  {
   "cell_type": "markdown",
   "id": "2cf90b8f",
   "metadata": {},
   "source": [
    "(2) 'name'별 'hp'의 평균값을 'hp'의 값을 기준으로 내림차순으로 정렬하여라. "
   ]
  },
  {
   "cell_type": "code",
   "execution_count": null,
   "id": "56a6c974",
   "metadata": {},
   "outputs": [],
   "source": []
  },
  {
   "cell_type": "markdown",
   "id": "df7f53e2",
   "metadata": {},
   "source": [
    "(3) 'name'별 'hp'의 평균값을 'hp'의 값을 기준으로 내림차순한 값의 처음 20개를 막대그래프로 나타내어라."
   ]
  },
  {
   "cell_type": "code",
   "execution_count": null,
   "id": "037088ca",
   "metadata": {},
   "outputs": [],
   "source": []
  },
  {
   "cell_type": "code",
   "execution_count": null,
   "id": "81267a94",
   "metadata": {},
   "outputs": [],
   "source": []
  }
 ],
 "metadata": {
  "kernelspec": {
   "display_name": "Python 3 (ipykernel)",
   "language": "python",
   "name": "python3"
  },
  "language_info": {
   "codemirror_mode": {
    "name": "ipython",
    "version": 3
   },
   "file_extension": ".py",
   "mimetype": "text/x-python",
   "name": "python",
   "nbconvert_exporter": "python",
   "pygments_lexer": "ipython3",
   "version": "3.9.13"
  }
 },
 "nbformat": 4,
 "nbformat_minor": 5
}
