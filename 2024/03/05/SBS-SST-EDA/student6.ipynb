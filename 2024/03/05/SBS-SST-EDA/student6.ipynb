{
 "cells": [
  {
   "cell_type": "markdown",
   "id": "740348d3",
   "metadata": {},
   "source": [
    "---\n",
    "\n",
    "* 코드를 작성 후 \"Shift + Enter\"를 누르거나, 상단의 Run을 클릭하면 코드가 실행 된다. \n",
    "\n",
    "---\n",
    "\n",
    "**예제1** pandas를 pd라는 이름으로 matplotlib.pyplot을 plt라는 이름으로 불러와서 사용한다."
   ]
  },
  {
   "cell_type": "code",
   "execution_count": null,
   "id": "b2442a1f",
   "metadata": {
    "ExecuteTime": {
     "end_time": "2021-07-27T02:14:26.503589Z",
     "start_time": "2021-07-27T02:14:25.757585Z"
    }
   },
   "outputs": [],
   "source": []
  },
  {
   "cell_type": "markdown",
   "id": "b7722bb3",
   "metadata": {},
   "source": [
    "**예제2** 다음을 코드로 작성하여라. \n",
    "\n",
    "(1) 지은이의 용돈기입장에 내용이다. 딕셔너리를 이용하여 다음의 표를 만들고 이를 A라 하여라. \n",
    "\n",
    "  |  content | category | number | unit price | \n",
    "  |  :---: |  :---: |:---: |:---:|\n",
    "  |  Pencil   | school supplies  | 4 | 1000 | \n",
    "  |  Eraser   | school supplies  | 3 | 500 | \n",
    "  |  Luler   | school supplies  | 1 | 1000 | \n",
    "  |  Pencil Case   | school supplies  | 1 | 8000 | \n",
    "  |  Note   | school supplies  | 2 | 1800 | \n",
    "  |  Ice Cream   | snack  | 4 | 1200 | \n",
    "  |  Gum   | snack  | 3 | 500 | \n",
    "  |  Cracker   | snack  | 6 | 1500 | \n",
    "  |  Bread   | snack  | 2 | 2000 | \n",
    "  |  Drink   | snack  | 4 | 1000 | \n",
    "  |  Ramen   | snack  | 2 | 6000 | \n",
    "  |  Sticker Photo  | hobby  | 1 | 5000 | \n",
    "  |  Movie Ticket   | hobby  | 2 | 9000 | \n",
    "  |  Coin Karaoke   | hobby  | 6 | 500 | "
   ]
  },
  {
   "cell_type": "code",
   "execution_count": null,
   "id": "d19c23fb",
   "metadata": {
    "ExecuteTime": {
     "end_time": "2021-07-27T02:14:26.535539Z",
     "start_time": "2021-07-27T02:14:26.506581Z"
    }
   },
   "outputs": [],
   "source": [
    "data = {'content':[\"Pencil\", \"Eraser\", \"Luler\", \"Pencil Case\", \"Note\", \"Ice Cream\", \"Gum\", \"Cracker\", \"Bread\", \"Drink\",  \"Ramen\", \"Sticker Photo\", \"Movie Ticket\", \"Coin Karaoke\"],\n",
    "       'category' : ['school supplies', 'school supplies','school supplies','school supplies','school supplies','snack','snack','snack','snack','snack','snack','hobby','hobby','hobby'],\n",
    "       'number' : [4, 3, 1, 1, 2, 4, 3, 6, 2, 4, 2, 1, 2, 6],\n",
    "       'unit' : [1000, 500, 1000, 8000, 1800, 1200, 500, 1500, 2000, 1000, 6000, 5000, 9000, 500]}\n",
    "\n"
   ]
  },
  {
   "cell_type": "markdown",
   "id": "b33b1458",
   "metadata": {},
   "source": [
    "(2) A의 'total' 열을 생성하여라. "
   ]
  },
  {
   "cell_type": "code",
   "execution_count": null,
   "id": "8af7893c",
   "metadata": {},
   "outputs": [],
   "source": []
  },
  {
   "cell_type": "markdown",
   "id": "203648cb",
   "metadata": {},
   "source": [
    "(3) A의 내용별 구매금액의  'total' 열을 세로형 막대그래프로 나타내어라. (단, 그래프의 제목을 'spending money'이라고 하여라.)"
   ]
  },
  {
   "cell_type": "code",
   "execution_count": null,
   "id": "2f385568",
   "metadata": {},
   "outputs": [],
   "source": []
  },
  {
   "cell_type": "markdown",
   "id": "63972ae1",
   "metadata": {},
   "source": [
    "(4) (3)의 그래프의 x축 라벨을 회전하여 겹치치 않게 그려라. "
   ]
  },
  {
   "cell_type": "code",
   "execution_count": null,
   "id": "2cdfce60",
   "metadata": {},
   "outputs": [],
   "source": []
  },
  {
   "cell_type": "markdown",
   "id": "9851e949",
   "metadata": {},
   "source": [
    "(5) A의 내용별 구매금액의  'total'열을 가로형 막대그래프로 나타내어라.(단, 그래프의 제목을 'spending money'이라고 하여라.)"
   ]
  },
  {
   "cell_type": "code",
   "execution_count": null,
   "id": "a5022a36",
   "metadata": {},
   "outputs": [],
   "source": []
  },
  {
   "cell_type": "markdown",
   "id": "d0e5ccfe",
   "metadata": {},
   "source": [
    "(6) A의 'total'의 열의 합을 구하여라."
   ]
  },
  {
   "cell_type": "code",
   "execution_count": null,
   "id": "01a1294d",
   "metadata": {},
   "outputs": [],
   "source": []
  },
  {
   "cell_type": "markdown",
   "id": "a12eb087",
   "metadata": {},
   "source": [
    "(7) A에 'percentage' 열을 생성하여라. "
   ]
  },
  {
   "cell_type": "code",
   "execution_count": null,
   "id": "5133f887",
   "metadata": {},
   "outputs": [],
   "source": []
  },
  {
   "cell_type": "markdown",
   "id": "97e9c30c",
   "metadata": {},
   "source": [
    "(8) A의 'total'열을 이용하여 동물별 좋아하는 학생 수의 비율을 원그래프로 나타내어라.(단, 그래프의 제목을 'spending money'이라 하여라.)"
   ]
  },
  {
   "cell_type": "code",
   "execution_count": null,
   "id": "4375832e",
   "metadata": {},
   "outputs": [],
   "source": []
  },
  {
   "cell_type": "markdown",
   "id": "ac703e73",
   "metadata": {},
   "source": [
    "(9) A를 'total'열을 기준으로 내림차순으로 정렬하여라. "
   ]
  },
  {
   "cell_type": "code",
   "execution_count": null,
   "id": "8286df14",
   "metadata": {},
   "outputs": [],
   "source": []
  },
  {
   "cell_type": "markdown",
   "id": "16fd0749",
   "metadata": {},
   "source": [
    "(10) A를 'number'열을 기준으로 오름차순으로 정렬하여라. "
   ]
  },
  {
   "cell_type": "code",
   "execution_count": null,
   "id": "1ecc4603",
   "metadata": {},
   "outputs": [],
   "source": []
  },
  {
   "cell_type": "markdown",
   "id": "0d806cfc",
   "metadata": {},
   "source": [
    "(11) groupby 함수를 이용하여 카테고리별 용돈 사용 내역을 구하여라. "
   ]
  },
  {
   "cell_type": "code",
   "execution_count": null,
   "id": "5166ef56",
   "metadata": {},
   "outputs": [],
   "source": []
  },
  {
   "cell_type": "markdown",
   "id": "9bdcceb4",
   "metadata": {},
   "source": [
    "(12) groupby 함수를 이용하여 카테고리별 용돈 사용 내역을 구하여 group이라 하여라. 그리고 index를 새로운 열로 만들어라. "
   ]
  },
  {
   "cell_type": "code",
   "execution_count": null,
   "id": "c90f32e2",
   "metadata": {},
   "outputs": [],
   "source": []
  },
  {
   "cell_type": "markdown",
   "id": "815310a2",
   "metadata": {},
   "source": [
    "(13) group의 'total'열을 이용하여 카테고리별 용돈 사용 내역의 비율을 원그래프로 나태내어라.(단, 그래프의 제목을 'spending money'이라 하여라.)"
   ]
  },
  {
   "cell_type": "code",
   "execution_count": null,
   "id": "8e884bb0",
   "metadata": {},
   "outputs": [],
   "source": []
  },
  {
   "cell_type": "markdown",
   "id": "3261e95c",
   "metadata": {},
   "source": [
    "**예제3** 다음은 아마존의 책 판매내역 자료이다. 주어진 자료를 활용하여 다음 물음에 해당하는 코드를 작성하여라. "
   ]
  },
  {
   "cell_type": "markdown",
   "id": "d2caf532",
   "metadata": {},
   "source": [
    "(1) 'Books.csv' 파일을 불러와서 df라 하고 처음 5개의 행을 확인하여라.\n",
    "\n",
    "---\n",
    "\n",
    "| 활용법 | 설명 | \n",
    "| :---:|  :---: |\n",
    "| pd.read_csv('파일명') | 파일을 불러온다.  | \n",
    "\n",
    "---"
   ]
  },
  {
   "cell_type": "code",
   "execution_count": null,
   "id": "a52aee4c",
   "metadata": {},
   "outputs": [],
   "source": []
  },
  {
   "cell_type": "markdown",
   "id": "0bb082e6",
   "metadata": {},
   "source": [
    "(2) df의 정보를 확인하여라. "
   ]
  },
  {
   "cell_type": "code",
   "execution_count": null,
   "id": "09c2bc4d",
   "metadata": {},
   "outputs": [],
   "source": []
  },
  {
   "cell_type": "markdown",
   "id": "f7196fe2",
   "metadata": {},
   "source": [
    "(3) 'author'열의 값의 각각의 개수를 세어라.\n",
    "\n",
    "---\n",
    "\n",
    "| 활용법 | 설명 | \n",
    "| :---:|  :---: |\n",
    "| 데이터프레임['열이름'].value_counts() | 해당 열의 값의 각각의 개수를 출력한다.   |\n",
    "\n",
    "---"
   ]
  },
  {
   "cell_type": "code",
   "execution_count": null,
   "id": "4bc121ab",
   "metadata": {},
   "outputs": [],
   "source": []
  },
  {
   "cell_type": "markdown",
   "id": "901e5b27",
   "metadata": {},
   "source": [
    "(4) 'year of publication'열의 값의 각각의 개수를 세어라."
   ]
  },
  {
   "cell_type": "code",
   "execution_count": null,
   "id": "ec915cd3",
   "metadata": {},
   "outputs": [],
   "source": []
  },
  {
   "cell_type": "markdown",
   "id": "9f9d5843",
   "metadata": {},
   "source": [
    "(5) 'genre'열의 값의 각각의 개수를 세어라."
   ]
  },
  {
   "cell_type": "code",
   "execution_count": null,
   "id": "76b59a74",
   "metadata": {},
   "outputs": [],
   "source": []
  },
  {
   "cell_type": "markdown",
   "id": "d7dea441",
   "metadata": {},
   "source": [
    "(6) groupby함수를 사용하여 출판연도별 'rating'와 'book price'의 평균값과 'book title'의 개수를 구하여 year이라 하여라."
   ]
  },
  {
   "cell_type": "code",
   "execution_count": null,
   "id": "ae71476e",
   "metadata": {},
   "outputs": [],
   "source": []
  },
  {
   "cell_type": "markdown",
   "id": "9060ce49",
   "metadata": {},
   "source": [
    "(7) year을 'rating'열을 기준으로 내림차순하여 정렬하고 상위 10개의 행을 출력하여라. "
   ]
  },
  {
   "cell_type": "code",
   "execution_count": null,
   "id": "3595f071",
   "metadata": {},
   "outputs": [],
   "source": []
  },
  {
   "cell_type": "markdown",
   "id": "ebbd7e6c",
   "metadata": {},
   "source": [
    "(8) year을 'book price'열을 기준으로 내림차순하여 정렬하고 상위 10개의 행을 출력하여라."
   ]
  },
  {
   "cell_type": "code",
   "execution_count": null,
   "id": "973121c3",
   "metadata": {},
   "outputs": [],
   "source": []
  },
  {
   "cell_type": "markdown",
   "id": "bf26fad3",
   "metadata": {},
   "source": [
    "(9) year을 'book title'열을 기준으로 내림차순하여 정렬하고 상위 10개의 행을 출력하여라."
   ]
  },
  {
   "cell_type": "code",
   "execution_count": null,
   "id": "17a78863",
   "metadata": {},
   "outputs": [],
   "source": []
  },
  {
   "cell_type": "code",
   "execution_count": null,
   "id": "6bbbe4e8",
   "metadata": {},
   "outputs": [],
   "source": []
  }
 ],
 "metadata": {
  "hide_input": false,
  "kernelspec": {
   "display_name": "Python 3 (ipykernel)",
   "language": "python",
   "name": "python3"
  },
  "language_info": {
   "codemirror_mode": {
    "name": "ipython",
    "version": 3
   },
   "file_extension": ".py",
   "mimetype": "text/x-python",
   "name": "python",
   "nbconvert_exporter": "python",
   "pygments_lexer": "ipython3",
   "version": "3.9.13"
  },
  "nbTranslate": {
   "displayLangs": [
    "*"
   ],
   "hotkey": "alt-t",
   "langInMainMenu": true,
   "sourceLang": "en",
   "targetLang": "fr",
   "useGoogleTranslate": true
  },
  "toc": {
   "base_numbering": 1,
   "nav_menu": {},
   "number_sections": true,
   "sideBar": true,
   "skip_h1_title": false,
   "title_cell": "Table of Contents",
   "title_sidebar": "Contents",
   "toc_cell": false,
   "toc_position": {},
   "toc_section_display": true,
   "toc_window_display": false
  },
  "varInspector": {
   "cols": {
    "lenName": 16,
    "lenType": 16,
    "lenVar": 40
   },
   "kernels_config": {
    "python": {
     "delete_cmd_postfix": "",
     "delete_cmd_prefix": "del ",
     "library": "var_list.py",
     "varRefreshCmd": "print(var_dic_list())"
    },
    "r": {
     "delete_cmd_postfix": ") ",
     "delete_cmd_prefix": "rm(",
     "library": "var_list.r",
     "varRefreshCmd": "cat(var_dic_list()) "
    }
   },
   "types_to_exclude": [
    "module",
    "function",
    "builtin_function_or_method",
    "instance",
    "_Feature"
   ],
   "window_display": false
  }
 },
 "nbformat": 4,
 "nbformat_minor": 5
}
