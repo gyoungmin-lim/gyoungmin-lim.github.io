{
 "cells": [
  {
   "cell_type": "markdown",
   "id": "1b75a24f",
   "metadata": {},
   "source": [
    "---\n",
    "\n",
    "* 코드를 작성 후 \"Shift + Enter\"를 누르거나, 상단의 Run을 클릭하면 코드가 실행 된다. \n",
    "\n",
    "---"
   ]
  },
  {
   "cell_type": "markdown",
   "id": "9cb36777",
   "metadata": {},
   "source": [
    "# if 문\n",
    "\n",
    "> if문은 조건문에 사용된다. \n",
    "\n",
    "--- \n",
    "\n",
    "if 문의 기본 구조는 다음과 같다. "
   ]
  },
  {
   "cell_type": "raw",
   "id": "9333bd40",
   "metadata": {},
   "source": [
    "if 조건문1 :\n",
    "    수행문장1\n",
    "elif 조건문2:\n",
    "    수행문장2\n",
    "else:\n",
    "    수행문장3"
   ]
  },
  {
   "cell_type": "markdown",
   "id": "708e2946",
   "metadata": {},
   "source": [
    "**예제1** 다음을 코드로 작성하여라. \n",
    "\n",
    "(1) $a=1.4, b = \\frac{7}{8}$이라 하자. 두 수의 크기를 비교하여 더 큰 수를 출력하여라. "
   ]
  },
  {
   "cell_type": "code",
   "execution_count": null,
   "id": "fc2394e0",
   "metadata": {},
   "outputs": [],
   "source": []
  },
  {
   "cell_type": "markdown",
   "id": "c5c13ded",
   "metadata": {},
   "source": [
    "(2) 14살이라 하자. 나이를 비교하여 해당하는 학교급(초등학생, 중학생, 고등학생)을 출력하여라. "
   ]
  },
  {
   "cell_type": "code",
   "execution_count": null,
   "id": "8531c8de",
   "metadata": {},
   "outputs": [],
   "source": []
  },
  {
   "cell_type": "markdown",
   "id": "b089f317",
   "metadata": {},
   "source": [
    "# 최대공약수와 최소공배수\n",
    "\n",
    "**예제2** 다음을 코드로 작성하여라.\n",
    "\n",
    "(3) (1)과 (2)의 결과를 확인하여 15의 약수를 리스트에 차례로 넣어서 출력하는 코드를 작성하여라."
   ]
  },
  {
   "cell_type": "code",
   "execution_count": null,
   "id": "45431acb",
   "metadata": {},
   "outputs": [],
   "source": []
  },
  {
   "cell_type": "markdown",
   "id": "824f98bc",
   "metadata": {},
   "source": [
    "(7) (5)와 (6)의 결과를 확인하여  20과 30의 공약수를 리스트에 차례로 넣어서 출력하는 코드를 작성하여라."
   ]
  },
  {
   "cell_type": "code",
   "execution_count": null,
   "id": "e4a95a07",
   "metadata": {},
   "outputs": [],
   "source": []
  },
  {
   "cell_type": "markdown",
   "id": "09e44eb6",
   "metadata": {},
   "source": [
    "**문제1** 다음을 코드로 작성하여라.\n",
    "\n",
    "(1) 7의 배수를 리스트에 차례로 넣어서 출력하여라. (단 100미만의 값을 출력하여라.)"
   ]
  },
  {
   "cell_type": "code",
   "execution_count": null,
   "id": "4c54d411",
   "metadata": {},
   "outputs": [],
   "source": []
  },
  {
   "cell_type": "markdown",
   "id": "171f7ba0",
   "metadata": {},
   "source": [
    "(2) 7과 13의 공배수를 리스트에 차례로 넣어서 출력하여라. (단, 1000미만의 값을 출력하여라)"
   ]
  },
  {
   "cell_type": "code",
   "execution_count": null,
   "id": "fb288b7b",
   "metadata": {},
   "outputs": [],
   "source": []
  },
  {
   "cell_type": "markdown",
   "id": "57e14589",
   "metadata": {},
   "source": [
    "# 도전하기\n",
    "\n",
    "(1) 14와 20의 최소공배수를 구하여라. "
   ]
  },
  {
   "cell_type": "code",
   "execution_count": null,
   "id": "6d269ee7",
   "metadata": {},
   "outputs": [],
   "source": []
  },
  {
   "cell_type": "markdown",
   "id": "7a3de451",
   "metadata": {},
   "source": [
    "(2) 84와 48의 최대공약수를 구하여라. "
   ]
  },
  {
   "cell_type": "code",
   "execution_count": null,
   "id": "6bb06220",
   "metadata": {},
   "outputs": [],
   "source": []
  },
  {
   "cell_type": "markdown",
   "id": "44a832e6",
   "metadata": {},
   "source": [
    "# 라이브러리 이용하기\n",
    "\n",
    "> 파이썬에서는 유사한 기능을 하는 함수를 모아서 라이브러리(모듈)로 제공한다. \n",
    "\n",
    "> math는 수학 연산에 적합한 기능을 모아둔 라이브러리이다.\n",
    "\n",
    "-----\n",
    "\n",
    "| 활용법 | 설명 | \n",
    "| :---:|  :---: |\n",
    "| import 라이브러리 | 라이브러리를 사용한다. | \n",
    "| math.gcd(값1, 값2) | 값1과 값2의 최대공약수를 출력한다.|  \n",
    "| math.lcm(값1, 값2) | 값1과 값2의 최소공배수를 출력한다. |\n",
    "\n",
    "---\n",
    "\n",
    "**예제3** 다음을 코드로 작성하여라. \n",
    "\n",
    "(1) math 라이브러리를 사용한다.  "
   ]
  },
  {
   "cell_type": "code",
   "execution_count": null,
   "id": "5f7588e3",
   "metadata": {},
   "outputs": [],
   "source": []
  },
  {
   "cell_type": "markdown",
   "id": "478b66d8",
   "metadata": {},
   "source": [
    "(2) 20과 30의 최대공약수를 구하여라."
   ]
  },
  {
   "cell_type": "code",
   "execution_count": null,
   "id": "c6ff7e5c",
   "metadata": {},
   "outputs": [],
   "source": []
  },
  {
   "cell_type": "markdown",
   "id": "03414bce",
   "metadata": {},
   "source": [
    "(3) 7과 13의 최소공배수를 구하여라. "
   ]
  },
  {
   "cell_type": "code",
   "execution_count": null,
   "id": "12a3f3ee",
   "metadata": {},
   "outputs": [],
   "source": []
  },
  {
   "cell_type": "markdown",
   "id": "cfcaebda",
   "metadata": {},
   "source": [
    "**문제2** 다음을 코드로 작성하여라. \n",
    "\n",
    "(1) 1280와 2096의 최대공약수를 구하여라."
   ]
  },
  {
   "cell_type": "code",
   "execution_count": null,
   "id": "3437dbd3",
   "metadata": {},
   "outputs": [],
   "source": []
  },
  {
   "cell_type": "markdown",
   "id": "9d25bb45",
   "metadata": {},
   "source": [
    "(2) 123과 2034의 최소공배수를 구하여라. "
   ]
  },
  {
   "cell_type": "code",
   "execution_count": null,
   "id": "3f8804b3",
   "metadata": {},
   "outputs": [],
   "source": []
  },
  {
   "cell_type": "markdown",
   "id": "3fddd9f6",
   "metadata": {},
   "source": [
    "# def 함수\n",
    "\n",
    "> def는 함수를 구성하기 위해 사용한다. \n",
    "\n",
    "---\n",
    "\n",
    "def의 기본구조는 다음과 같다. "
   ]
  },
  {
   "cell_type": "raw",
   "id": "e8f6864e",
   "metadata": {},
   "source": [
    "def 함수이름(변수) :\n",
    "    수행문장"
   ]
  },
  {
   "cell_type": "markdown",
   "id": "b66291be",
   "metadata": {},
   "source": [
    "def에서 결과를 반환하는 구조는 다음과 같다."
   ]
  },
  {
   "cell_type": "raw",
   "id": "c64b5a5f",
   "metadata": {},
   "source": [
    "def 함수이름(변수) :\n",
    "    수행문장\n",
    "    return 반환값"
   ]
  },
  {
   "cell_type": "markdown",
   "id": "c56e19f8",
   "metadata": {},
   "source": [
    "**예제4** 다음을 코드로 작성하여라. \n",
    "\n",
    "(1) 두 수의 합을 구하는 함수 add를 만들어라. "
   ]
  },
  {
   "cell_type": "code",
   "execution_count": null,
   "id": "efce7f7e",
   "metadata": {
    "ExecuteTime": {
     "end_time": "2021-06-02T07:24:36.734405Z",
     "start_time": "2021-06-02T07:24:36.716454Z"
    }
   },
   "outputs": [],
   "source": []
  },
  {
   "cell_type": "markdown",
   "id": "992ed1f2",
   "metadata": {},
   "source": [
    "(2) 4와 8의 합을 함수 add로 확인하여라."
   ]
  },
  {
   "cell_type": "code",
   "execution_count": null,
   "id": "764c1753",
   "metadata": {
    "ExecuteTime": {
     "end_time": "2021-06-02T07:24:36.765362Z",
     "start_time": "2021-06-02T07:24:36.759340Z"
    }
   },
   "outputs": [],
   "source": []
  },
  {
   "cell_type": "markdown",
   "id": "0cc76b13",
   "metadata": {},
   "source": [
    "**문제3** 다음을 코드로 작성하여라. \n",
    "\n",
    "(1) 주어진 수의 제곱을 구하는 함수 square를 만들어라. "
   ]
  },
  {
   "cell_type": "code",
   "execution_count": null,
   "id": "101c58fe",
   "metadata": {
    "ExecuteTime": {
     "end_time": "2021-06-02T07:24:36.813207Z",
     "start_time": "2021-06-02T07:24:36.804220Z"
    }
   },
   "outputs": [],
   "source": []
  },
  {
   "cell_type": "markdown",
   "id": "781a2239",
   "metadata": {},
   "source": [
    "(2) 4와 15의 제곱을 함수 square로 각각 확인하여라. "
   ]
  },
  {
   "cell_type": "code",
   "execution_count": null,
   "id": "e93b87c9",
   "metadata": {
    "ExecuteTime": {
     "end_time": "2021-06-02T07:24:36.861079Z",
     "start_time": "2021-06-02T07:24:36.852093Z"
    }
   },
   "outputs": [],
   "source": []
  },
  {
   "cell_type": "code",
   "execution_count": null,
   "id": "0ef0bdbf",
   "metadata": {
    "ExecuteTime": {
     "end_time": "2021-06-02T07:24:36.907974Z",
     "start_time": "2021-06-02T07:24:36.887995Z"
    }
   },
   "outputs": [],
   "source": []
  },
  {
   "cell_type": "markdown",
   "id": "c097ec6a",
   "metadata": {},
   "source": [
    "**문제4** 다음을 코드로 작성하여라. \n",
    "\n",
    "\n",
    "(1) 주어진 두 수가 서로소임을 확인하는 함수 relative prime을 만들어라. "
   ]
  },
  {
   "cell_type": "code",
   "execution_count": null,
   "id": "95e8b713",
   "metadata": {},
   "outputs": [],
   "source": []
  },
  {
   "cell_type": "markdown",
   "id": "89a620e0",
   "metadata": {},
   "source": [
    "(2) 20과 30이 서로소인지 확인하여라. "
   ]
  },
  {
   "cell_type": "code",
   "execution_count": null,
   "id": "628deb7f",
   "metadata": {},
   "outputs": [],
   "source": []
  },
  {
   "cell_type": "markdown",
   "id": "45d5fc01",
   "metadata": {},
   "source": [
    "(3) 14와 15가 서로소인지 확인하여라. "
   ]
  },
  {
   "cell_type": "code",
   "execution_count": null,
   "id": "2562567b",
   "metadata": {},
   "outputs": [],
   "source": []
  },
  {
   "cell_type": "markdown",
   "id": "2a991e8f",
   "metadata": {},
   "source": [
    "# 도전하기\n",
    "\n",
    "(1) n단 구구단을 출력하는 함수 gugudan을 만들어라. "
   ]
  },
  {
   "cell_type": "code",
   "execution_count": null,
   "id": "bdc06572",
   "metadata": {
    "ExecuteTime": {
     "end_time": "2021-06-02T07:24:36.955815Z",
     "start_time": "2021-06-02T07:24:36.948832Z"
    }
   },
   "outputs": [],
   "source": []
  },
  {
   "cell_type": "code",
   "execution_count": null,
   "id": "244ae9e9",
   "metadata": {
    "ExecuteTime": {
     "end_time": "2021-06-02T07:24:37.002687Z",
     "start_time": "2021-06-02T07:24:36.980746Z"
    }
   },
   "outputs": [],
   "source": []
  },
  {
   "cell_type": "markdown",
   "id": "4d981465",
   "metadata": {},
   "source": [
    "(2) 입력한 수가 소수임을 판단하는 함수 prime을 만들어라."
   ]
  },
  {
   "cell_type": "code",
   "execution_count": null,
   "id": "ba3a190d",
   "metadata": {},
   "outputs": [],
   "source": []
  },
  {
   "cell_type": "code",
   "execution_count": null,
   "id": "33f5d2e5",
   "metadata": {},
   "outputs": [],
   "source": []
  },
  {
   "cell_type": "code",
   "execution_count": null,
   "id": "9c8a5a9c",
   "metadata": {},
   "outputs": [],
   "source": []
  },
  {
   "cell_type": "markdown",
   "id": "bb81a895",
   "metadata": {},
   "source": [
    "(3) $n$ 이하의 소수를 모두 구하는 함수 find_prime을 만들어라. "
   ]
  },
  {
   "cell_type": "code",
   "execution_count": null,
   "id": "47e8b6eb",
   "metadata": {},
   "outputs": [],
   "source": []
  },
  {
   "cell_type": "code",
   "execution_count": null,
   "id": "4be0b124",
   "metadata": {},
   "outputs": [],
   "source": []
  },
  {
   "cell_type": "code",
   "execution_count": null,
   "id": "eca57edf",
   "metadata": {},
   "outputs": [],
   "source": []
  }
 ],
 "metadata": {
  "hide_input": false,
  "kernelspec": {
   "display_name": "Python 3 (ipykernel)",
   "language": "python",
   "name": "python3"
  },
  "language_info": {
   "codemirror_mode": {
    "name": "ipython",
    "version": 3
   },
   "file_extension": ".py",
   "mimetype": "text/x-python",
   "name": "python",
   "nbconvert_exporter": "python",
   "pygments_lexer": "ipython3",
   "version": "3.9.13"
  },
  "nbTranslate": {
   "displayLangs": [
    "*"
   ],
   "hotkey": "alt-t",
   "langInMainMenu": true,
   "sourceLang": "en",
   "targetLang": "fr",
   "useGoogleTranslate": true
  },
  "toc": {
   "base_numbering": 1,
   "nav_menu": {},
   "number_sections": true,
   "sideBar": true,
   "skip_h1_title": false,
   "title_cell": "Table of Contents",
   "title_sidebar": "Contents",
   "toc_cell": false,
   "toc_position": {},
   "toc_section_display": true,
   "toc_window_display": false
  },
  "varInspector": {
   "cols": {
    "lenName": 16,
    "lenType": 16,
    "lenVar": 40
   },
   "kernels_config": {
    "python": {
     "delete_cmd_postfix": "",
     "delete_cmd_prefix": "del ",
     "library": "var_list.py",
     "varRefreshCmd": "print(var_dic_list())"
    },
    "r": {
     "delete_cmd_postfix": ") ",
     "delete_cmd_prefix": "rm(",
     "library": "var_list.r",
     "varRefreshCmd": "cat(var_dic_list()) "
    }
   },
   "types_to_exclude": [
    "module",
    "function",
    "builtin_function_or_method",
    "instance",
    "_Feature"
   ],
   "window_display": false
  }
 },
 "nbformat": 4,
 "nbformat_minor": 5
}
