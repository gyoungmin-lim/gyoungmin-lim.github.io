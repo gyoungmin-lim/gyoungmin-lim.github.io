{
 "cells": [
  {
   "cell_type": "markdown",
   "id": "324a26b0",
   "metadata": {
    "ExecuteTime": {
     "end_time": "2021-05-24T01:49:14.816945Z",
     "start_time": "2021-05-24T01:49:14.809999Z"
    }
   },
   "source": [
    "---\n",
    "\n",
    "* 코드를 작성 후 \"Shift + Enter\"를 누르거나, 상단의 Run을 클릭하면 코드가 실행 된다. \n",
    "\n",
    "---\n"
   ]
  },
  {
   "cell_type": "markdown",
   "id": "d49346b1",
   "metadata": {},
   "source": [
    "**예제1** 'Hello'를 입력하고 실행하세요. "
   ]
  },
  {
   "cell_type": "code",
   "execution_count": null,
   "id": "ca143e1b",
   "metadata": {},
   "outputs": [],
   "source": []
  },
  {
   "cell_type": "markdown",
   "id": "249f1036",
   "metadata": {},
   "source": [
    "**예제2** Hello를 입력하고 실행하세요. "
   ]
  },
  {
   "cell_type": "code",
   "execution_count": null,
   "id": "832279b0",
   "metadata": {},
   "outputs": [],
   "source": []
  },
  {
   "cell_type": "markdown",
   "id": "c7dea8af",
   "metadata": {},
   "source": [
    "2번에서 결과가 나오지 않고 NameError가 나오는 것은 오류입니다. 1번과의 차이를 생각하여 2번에서 오류가 난 이유를 생각해보세요. \n",
    "\n",
    "---\n",
    "\n",
    "\n",
    "**예제3** 숫자 1을 입력하고 실행하세요. "
   ]
  },
  {
   "cell_type": "code",
   "execution_count": null,
   "id": "d0d79234",
   "metadata": {
    "ExecuteTime": {
     "end_time": "2021-07-27T02:09:31.339122Z",
     "start_time": "2021-07-27T02:09:31.316179Z"
    }
   },
   "outputs": [],
   "source": []
  },
  {
   "cell_type": "markdown",
   "id": "d2615cb6",
   "metadata": {},
   "source": [
    "**예제4** 우리 학교 이름을 입력하고 실행하세요. "
   ]
  },
  {
   "cell_type": "code",
   "execution_count": null,
   "id": "c30a5420",
   "metadata": {
    "ExecuteTime": {
     "end_time": "2021-07-27T02:09:31.387003Z",
     "start_time": "2021-07-27T02:09:31.370040Z"
    }
   },
   "outputs": [],
   "source": []
  },
  {
   "cell_type": "markdown",
   "id": "0a812067",
   "metadata": {},
   "source": [
    "**예제5** 현재위치에 코드를 한 줄 추가하세요. "
   ]
  },
  {
   "cell_type": "markdown",
   "id": "f0ac1734",
   "metadata": {},
   "source": [
    "**예제6** 파일을 저장하세요. "
   ]
  },
  {
   "cell_type": "markdown",
   "id": "43ad12e7",
   "metadata": {},
   "source": [
    "**예제7** 파일을 닫으세요. "
   ]
  },
  {
   "cell_type": "markdown",
   "id": "0294d8ef",
   "metadata": {},
   "source": [
    "**예제8** 다음 단어를 입력하세요. \n",
    "\n",
    "(1) '반갑습니다'"
   ]
  },
  {
   "cell_type": "code",
   "execution_count": null,
   "id": "69d1c7ce",
   "metadata": {},
   "outputs": [],
   "source": []
  },
  {
   "cell_type": "markdown",
   "id": "f0320294",
   "metadata": {},
   "source": [
    "(2) '안녕하세요'"
   ]
  },
  {
   "cell_type": "code",
   "execution_count": null,
   "id": "3b2f9761",
   "metadata": {},
   "outputs": [],
   "source": []
  },
  {
   "cell_type": "markdown",
   "id": "2c24f8cc",
   "metadata": {},
   "source": [
    "(3) '사과'"
   ]
  },
  {
   "cell_type": "code",
   "execution_count": null,
   "id": "20296d32",
   "metadata": {},
   "outputs": [],
   "source": []
  },
  {
   "cell_type": "markdown",
   "id": "b56c5b57",
   "metadata": {},
   "source": [
    "(4) 'school'"
   ]
  },
  {
   "cell_type": "code",
   "execution_count": null,
   "id": "00f070cf",
   "metadata": {},
   "outputs": [],
   "source": []
  },
  {
   "cell_type": "markdown",
   "id": "614fd24e",
   "metadata": {},
   "source": [
    "**예제9** 다음 문장을 입력하고 시간을 측정하세요. \n",
    "\n",
    "(1) 다음 셀을 실행하세요. "
   ]
  },
  {
   "cell_type": "code",
   "execution_count": null,
   "id": "8eaa7019",
   "metadata": {},
   "outputs": [],
   "source": []
  },
  {
   "cell_type": "markdown",
   "id": "cbf893ec",
   "metadata": {},
   "source": [
    "(2) 시작시간을 설정하세요."
   ]
  },
  {
   "cell_type": "code",
   "execution_count": null,
   "id": "17c17eec",
   "metadata": {},
   "outputs": [],
   "source": []
  },
  {
   "cell_type": "markdown",
   "id": "b9dea129",
   "metadata": {},
   "source": [
    "(3) print에 다음 문장을 입력하고 걸린 시간을 확인하세요. \n",
    "\n",
    "'동해물과 백두산이 마르고 닳도록 하느님이 보우하사 우리나라 만세'"
   ]
  },
  {
   "cell_type": "code",
   "execution_count": null,
   "id": "567ff354",
   "metadata": {},
   "outputs": [],
   "source": []
  },
  {
   "cell_type": "markdown",
   "id": "3a3e3ae2",
   "metadata": {},
   "source": [
    "**예제10** 다음 문장을 입력하고 시간을 측정하세요. \n",
    "\n",
    "(1) 시작시간을 설정하세요."
   ]
  },
  {
   "cell_type": "code",
   "execution_count": null,
   "id": "68a172a5",
   "metadata": {},
   "outputs": [],
   "source": []
  },
  {
   "cell_type": "markdown",
   "id": "6f978e6f",
   "metadata": {},
   "source": [
    "(2) print에 다음 영어 단어들을 입력하고 걸린 시간을 확인하세요.\n",
    "\n",
    "'student, home, glove, rabbit, black'"
   ]
  },
  {
   "cell_type": "code",
   "execution_count": null,
   "id": "18a769ee",
   "metadata": {},
   "outputs": [],
   "source": []
  },
  {
   "cell_type": "markdown",
   "id": "c4fb8f57",
   "metadata": {},
   "source": [
    "**예제11** 다음 단어를 리스트에 입력하고 시간을 측정하세요. \n",
    "\n",
    "(1) 시작시간을 설정하세요."
   ]
  },
  {
   "cell_type": "code",
   "execution_count": null,
   "id": "eed8a348",
   "metadata": {},
   "outputs": [],
   "source": []
  },
  {
   "cell_type": "markdown",
   "id": "27c1799a",
   "metadata": {},
   "source": [
    "(2) 다음 단어들을 리스트에 입력하고 정확도와 시간을 측정하세요. \n",
    "\n",
    "['apple', 'banana', 'grape', 'breakfast', 'chair', 'mother']"
   ]
  },
  {
   "cell_type": "code",
   "execution_count": null,
   "id": "51885b84",
   "metadata": {},
   "outputs": [],
   "source": []
  },
  {
   "cell_type": "code",
   "execution_count": null,
   "id": "5405e737",
   "metadata": {},
   "outputs": [],
   "source": []
  }
 ],
 "metadata": {
  "hide_input": false,
  "kernelspec": {
   "display_name": "Python 3 (ipykernel)",
   "language": "python",
   "name": "python3"
  },
  "language_info": {
   "codemirror_mode": {
    "name": "ipython",
    "version": 3
   },
   "file_extension": ".py",
   "mimetype": "text/x-python",
   "name": "python",
   "nbconvert_exporter": "python",
   "pygments_lexer": "ipython3",
   "version": "3.9.13"
  },
  "nbTranslate": {
   "displayLangs": [
    "*"
   ],
   "hotkey": "alt-t",
   "langInMainMenu": true,
   "sourceLang": "en",
   "targetLang": "fr",
   "useGoogleTranslate": true
  },
  "toc": {
   "base_numbering": 1,
   "nav_menu": {},
   "number_sections": true,
   "sideBar": true,
   "skip_h1_title": false,
   "title_cell": "Table of Contents",
   "title_sidebar": "Contents",
   "toc_cell": false,
   "toc_position": {},
   "toc_section_display": true,
   "toc_window_display": false
  },
  "varInspector": {
   "cols": {
    "lenName": 16,
    "lenType": 16,
    "lenVar": 40
   },
   "kernels_config": {
    "python": {
     "delete_cmd_postfix": "",
     "delete_cmd_prefix": "del ",
     "library": "var_list.py",
     "varRefreshCmd": "print(var_dic_list())"
    },
    "r": {
     "delete_cmd_postfix": ") ",
     "delete_cmd_prefix": "rm(",
     "library": "var_list.r",
     "varRefreshCmd": "cat(var_dic_list()) "
    }
   },
   "types_to_exclude": [
    "module",
    "function",
    "builtin_function_or_method",
    "instance",
    "_Feature"
   ],
   "window_display": false
  }
 },
 "nbformat": 4,
 "nbformat_minor": 5
}
